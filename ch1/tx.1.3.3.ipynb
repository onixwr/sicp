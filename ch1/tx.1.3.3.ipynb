{
 "cells": [
  {
   "cell_type": "code",
   "execution_count": 16,
   "metadata": {
    "vscode": {
     "languageId": "python"
    }
   },
   "outputs": [],
   "source": [
    "(define (positive? x) (> x 0))\n",
    "(define (negative? x) (< x 0))\n",
    "(define (average x y) (/ (+ x y) 2))"
   ]
  },
  {
   "cell_type": "code",
   "execution_count": 1,
   "metadata": {
    "vscode": {
     "languageId": "python"
    }
   },
   "outputs": [],
   "source": [
    "(define (search f neg-point pos-point)\n",
    "  (let ((midpoint (average neg-point pos-point)))\n",
    "    (if (close-enough? neg-point pos-point)\n",
    "        midpoint\n",
    "        (let ((test-value (f midpoint)))\n",
    "          (cond ((positive? test-value)\n",
    "                 (search f neg-point midpoint))\n",
    "                ((negative? test-value)\n",
    "                 (search f midpoint pos-point))\n",
    "                (else midpoint))))))\n",
    "\n"
   ]
  },
  {
   "cell_type": "code",
   "execution_count": 3,
   "metadata": {
    "vscode": {
     "languageId": "python"
    }
   },
   "outputs": [],
   "source": [
    "(define (close-enough? x y)\n",
    "  (< (abs (- x y)) 0.001))"
   ]
  },
  {
   "cell_type": "code",
   "execution_count": 18,
   "metadata": {
    "vscode": {
     "languageId": "python"
    }
   },
   "outputs": [],
   "source": [
    "(define (half-interval-method f a b)\n",
    "  (let ((a-value (f a))\n",
    "        (b-value (f b)))\n",
    "    (cond ((and (negative? a-value) (positive? b-value))\n",
    "           (search f a b))\n",
    "          ((and (negative? b-value) (positive? a-value))\n",
    "           (search f b a))\n",
    "          (else\n",
    "           (error \"Values are not of opposite sign\" a b)))))\n",
    "\n"
   ]
  },
  {
   "cell_type": "code",
   "execution_count": 19,
   "metadata": {
    "vscode": {
     "languageId": "python"
    }
   },
   "outputs": [
    {
     "data": {
      "text/plain": [
       "(sin)"
      ]
     },
     "execution_count": 19,
     "metadata": {},
     "output_type": "execute_result"
    }
   ],
   "source": [
    "(import-from \"math\" \"sin\")"
   ]
  },
  {
   "cell_type": "code",
   "execution_count": 24,
   "metadata": {
    "vscode": {
     "languageId": "python"
    }
   },
   "outputs": [
    {
     "name": "stderr",
     "output_type": "stream",
     "text": [
      "\u001b[0;31m\n",
      "Traceback (most recent call last):\n",
      "  File \"In [24]\", line 1, col 1, in 'half-interval-method'\n",
      "  File \"In [18]\", line 2, col 3, in 'let'\n",
      "  File \"In [18]\", line 9, col 12, in 'error'\n",
      "UnhandledException: object of type 'float' has no len()\n",
      "\n",
      "\u001b[0m"
     ]
    }
   ],
   "source": [
    "(half-interval-method sin 3.5 4.0)"
   ]
  },
  {
   "cell_type": "code",
   "execution_count": 23,
   "metadata": {
    "vscode": {
     "languageId": "python"
    }
   },
   "outputs": [
    {
     "name": "stderr",
     "output_type": "stream",
     "text": [
      "\u001b[0;31m\n",
      "Traceback (most recent call last):\n",
      "  File \"In [23]\", line 1, col 1, in 'error'\n",
      "  File \"In [23]\", line 1, col 1\n",
      "RunTimeError: Error in 'hoge': hage\n",
      "\n",
      "\u001b[0m"
     ]
    }
   ],
   "source": [
    "(error \"hoge\" \"hage\" \"hoge\" )"
   ]
  },
  {
   "cell_type": "code",
   "execution_count": null,
   "metadata": {
    "vscode": {
     "languageId": "python"
    }
   },
   "outputs": [],
   "source": []
  }
 ],
 "metadata": {
  "kernelspec": {
   "display_name": "Calysto Scheme 3",
   "language": "scheme",
   "name": "calysto_scheme"
  },
  "language_info": {
   "codemirror_mode": {
    "name": "scheme"
   },
   "mimetype": "text/x-scheme",
   "name": "scheme",
   "pygments_lexer": "scheme"
  },
  "orig_nbformat": 4
 },
 "nbformat": 4,
 "nbformat_minor": 2
}
