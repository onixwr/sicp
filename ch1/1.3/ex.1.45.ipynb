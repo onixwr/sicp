{
 "cells": [
  {
   "cell_type": "code",
   "execution_count": 108,
   "metadata": {
    "vscode": {
     "languageId": "python"
    }
   },
   "outputs": [],
   "source": [
    "(define tolerance 0.00001)\n",
    "(define (fixed-point f first-guess)\n",
    "  (define (close-enough? v1 v2)\n",
    "    (< (abs (- v1 v2)) tolerance))\n",
    "  (define (_try guess trial)\n",
    "    (if (> trial 100)\n",
    "      #f ; stop too many trail\n",
    "      (let ((next (f guess)))\n",
    "        (if (close-enough? guess next)\n",
    "            next\n",
    "            (_try next (+ trial 1))\n",
    "        )      \n",
    "      )\n",
    "    ))\n",
    "  (_try first-guess 0)\n",
    ")\n",
    "\n",
    "(define (average x y)\n",
    "  (/ (+ x y) 2)\n",
    ")\n",
    "\n",
    "(define (even? n)\n",
    "  (= (remainder n 2) 0)\n",
    ")\n",
    "(define (square x) (* x x))\n",
    "\n",
    "(define (fast-expt-iter b n x)\n",
    "  (cond\n",
    "    ((= n 0) x)\n",
    "    ((even? n) (fast-expt-iter (square b) (/ n 2) x ) )\n",
    "    (else (fast-expt-iter b (- n 1) (* b x)  ))\n",
    "  )\n",
    ")\n",
    "\n",
    "(define (fast-expt b n)\n",
    "  (fast-expt-iter b n 1)\n",
    ")\n"
   ]
  },
  {
   "cell_type": "code",
   "execution_count": 31,
   "metadata": {
    "vscode": {
     "languageId": "python"
    }
   },
   "outputs": [],
   "source": [
    "(define (compose f g)\n",
    "  (lambda (x) (f (g x)))\n",
    ")\n",
    "\n",
    "(define (repeated f k)\n",
    "  (define (itr g i)\n",
    "    (if (= i 1)\n",
    "      g\n",
    "      (itr (compose g f) (- i 1))\n",
    "    )\n",
    "  )\n",
    "  (itr f k)\n",
    ")"
   ]
  },
  {
   "cell_type": "code",
   "execution_count": 32,
   "metadata": {
    "vscode": {
     "languageId": "python"
    }
   },
   "outputs": [],
   "source": [
    "(define (average-damp f)\n",
    "  (lambda (x) (average x (f x)))\n",
    ")"
   ]
  },
  {
   "cell_type": "code",
   "execution_count": 33,
   "metadata": {
    "vscode": {
     "languageId": "python"
    }
   },
   "outputs": [],
   "source": [
    "(define (n-average-damp f n)\n",
    "  ((repeated average-damp n) f)\n",
    ")"
   ]
  },
  {
   "cell_type": "code",
   "execution_count": 34,
   "metadata": {
    "vscode": {
     "languageId": "python"
    }
   },
   "outputs": [],
   "source": [
    "(define (sqrt x)\n",
    "  (fixed-point (average-damp (lambda (y) (/ x y))) 0.1 )\n",
    ")"
   ]
  },
  {
   "cell_type": "code",
   "execution_count": 62,
   "metadata": {
    "vscode": {
     "languageId": "python"
    }
   },
   "outputs": [],
   "source": [
    "(define (n-average-fixed-point f n first-guess)\n",
    "  (fixed-point (n-average-damp f n) first-guess)\n",
    ")\n",
    "\n",
    "(define (nth-root-transform x n)\n",
    "  (lambda (y) (/ x (fast-expt y (- n 1))))\n",
    ")"
   ]
  },
  {
   "cell_type": "code",
   "execution_count": 169,
   "metadata": {
    "vscode": {
     "languageId": "python"
    }
   },
   "outputs": [],
   "source": [
    "(define (nth-root-by-k x n k)\n",
    "  (n-average-fixed-point (nth-root-transform x n) k 1.0)\n",
    ")"
   ]
  },
  {
   "cell_type": "code",
   "execution_count": 139,
   "metadata": {
    "vscode": {
     "languageId": "python"
    }
   },
   "outputs": [],
   "source": [
    "(import \"math\")\n",
    "(define (nth-root-math x n)\n",
    "  (math.pow x (/ 1.0 n)))"
   ]
  },
  {
   "cell_type": "code",
   "execution_count": 161,
   "metadata": {
    "vscode": {
     "languageId": "python"
    }
   },
   "outputs": [],
   "source": [
    "(define (search-num-average x n k)\n",
    "  (let ((ret (nth-root-by-k x n k) ))\n",
    "    (if (= ret #f )\n",
    "      (search-num-average x n (+ k 1))\n",
    "      (display (format \"Success n=~s k=~s ret=~s math.pow=~s~%\" n k ret (nth-root-math x n) ))\n",
    "    )\n",
    "  )\n",
    ")"
   ]
  },
  {
   "cell_type": "code",
   "execution_count": 168,
   "metadata": {
    "vscode": {
     "languageId": "python"
    }
   },
   "outputs": [],
   "source": [
    "(define (search-num-average-for-n x n)\n",
    "  (if (= n 130)\n",
    "    0\n",
    "    (begin\n",
    "      (search-num-average x n 1)\n",
    "      (search-num-average-for-n x (+ n 1))\n",
    "    )\n",
    "    \n",
    "  )\n",
    ")"
   ]
  },
  {
   "cell_type": "code",
   "execution_count": 170,
   "metadata": {
    "vscode": {
     "languageId": "python"
    }
   },
   "outputs": [
    {
     "name": "stdout",
     "output_type": "stream",
     "text": [
      "Success n=1 k=1 ret=9.999991416931152 math.pow=10.0\n",
      "Success n=2 k=1 ret=3.162277660168379 math.pow=3.1622776601683795\n",
      "Success n=3 k=1 ret=2.154432882998236 math.pow=2.154434690031884\n",
      "Success n=4 k=2 ret=1.7782794100444472 math.pow=1.7782794100389228\n",
      "Success n=5 k=2 ret=1.5848913895695755 math.pow=1.5848931924611136\n",
      "Success n=6 k=2 ret=1.4678013571259556 math.pow=1.4677992676220695\n",
      "Success n=7 k=2 ret=1.3894921800343574 math.pow=1.3894954943731377\n",
      "Success n=8 k=3 ret=1.333521432163324 math.pow=1.333521432163324\n",
      "Success n=9 k=3 ret=1.2915498345317167 math.pow=1.2915496650148839\n",
      "Success n=10 k=3 ret=1.2589247156514267 math.pow=1.2589254117941673\n",
      "Success n=11 k=3 ret=1.2328441781191855 math.pow=1.2328467394420661\n",
      "Success n=12 k=3 ret=1.2115251996947338 math.pow=1.2115276586285884\n",
      "Success n=13 k=3 ret=1.1937738835789307 math.pow=1.1937766417144364\n",
      "Success n=14 k=3 ret=1.1787722068956308 math.pow=1.1787686347935873\n",
      "Success n=15 k=3 ret=1.165918873146372 math.pow=1.1659144011798317\n",
      "Success n=16 k=4 ret=1.154781984689469 math.pow=1.1547819846894583\n",
      "Success n=17 k=4 ret=1.1450471036531187 math.pow=1.1450475699382818\n",
      "Success n=18 k=4 ret=1.1364641186584068 math.pow=1.1364636663857248\n",
      "Success n=19 k=4 ret=1.1288375686385856 math.pow=1.128837891684689\n",
      "Success n=20 k=4 ret=1.122017602303293 math.pow=1.1220184543019633\n",
      "Success n=21 k=4 ret=1.1158828943816008 math.pow=1.1158839925077484\n",
      "Success n=22 k=4 ret=1.1103347458851065 math.pow=1.110336318167638\n",
      "Success n=23 k=4 ret=1.105296511003141 math.pow=1.1052951411260217\n",
      "Success n=24 k=4 ret=1.100691377735696 math.pow=1.1006941712522096\n",
      "Success n=25 k=4 ret=1.0964754226444164 math.pow=1.096478196143185\n",
      "Success n=26 k=4 ret=1.0925975936966372 math.pow=1.0926008611173783\n",
      "Success n=27 k=4 ret=1.0890260442131883 math.pow=1.0890229622637302\n",
      "Success n=28 k=4 ret=1.0857073346525286 math.pow=1.0857111194022042\n",
      "Success n=29 k=4 ret=1.082632690390997 math.pow=1.0826367338740543\n",
      "Success n=30 k=4 ret=1.0797797365039288 math.pow=1.0797751623277096\n",
      "Success n=31 k=4 ret=1.0771098593263568 math.pow=1.0771050560367692\n",
      "Success n=32 k=5 ret=1.0746078283213178 math.pow=1.0746078283213174\n",
      "Success n=33 k=5 ret=1.0722672062819099 math.pow=1.0722672220103233\n",
      "Success n=34 k=5 ret=1.07006879866853 math.pow=1.0700689556931748\n",
      "Success n=35 k=5 ret=1.0679999626649317 math.pow=1.0680004325145758\n",
      "Success n=36 k=5 ret=1.066049625855067 math.pow=1.0660504989847923\n",
      "Success n=37 k=5 ret=1.0642080848091002 math.pow=1.0642092440647242\n",
      "Success n=38 k=5 ret=1.0624668353403086 math.pow=1.0624678308940412\n",
      "Success n=39 k=5 ret=1.0608198594051186 math.pow=1.0608183551394486\n",
      "Success n=40 k=5 ret=1.0592530724519387 math.pow=1.0592537251772889\n",
      "Success n=41 k=5 ret=1.0577655100675356 math.pow=1.0577675602831758\n",
      "Success n=42 k=5 ret=1.056355555492305 math.pow=1.0563541037491873\n",
      "Success n=43 k=5 ret=1.0550070863758547 math.pow=1.0550081484365523\n",
      "Success n=44 k=5 ret=1.053722758455033 math.pow=1.0537249727360731\n",
      "Success n=45 k=5 ret=1.0525020084549803 math.pow=1.052500285277733\n",
      "Success n=46 k=5 ret=1.051328722260395 math.pow=1.0513301770262382\n",
      "Success n=47 k=5 ret=1.0502082446069072 math.pow=1.0502110796366666\n",
      "Success n=48 k=5 ret=1.0491423463467457 math.pow=1.0491397291363098\n",
      "Success n=49 k=5 ret=1.0481105324128035 math.pow=1.0481131341546857\n",
      "Success n=50 k=5 ret=1.0471313231477548 math.pow=1.0471285480508996\n",
      "Success n=51 k=5 ret=1.046180284681991 math.pow=1.0461834443918254\n",
      "Success n=52 k=5 ret=1.0452793245596586 math.pow=1.0452754953204337\n",
      "Success n=53 k=5 ret=1.0444057796847426 math.pow=1.0444025524245693\n",
      "Success n=54 k=5 ret=1.04356578378056 math.pow=1.043562629775391\n",
      "Success n=55 k=5 ret=1.0427574303105518 math.pow=1.042753888853768\n",
      "Success n=56 k=5 ret=1.041971227960008 math.pow=1.041974625123954\n",
      "Success n=57 k=5 ret=1.0412272564489753 math.pow=1.0412232560483052\n",
      "Success n=58 k=5 ret=1.0404945413481688 math.pow=1.0404983103657854\n",
      "Success n=59 k=5 ret=1.0397942379434444 math.pow=1.0397984184814901\n",
      "Success n=60 k=5 ret=1.0391268796723294 math.pow=1.0391223038351691\n",
      "Success n=61 k=5 ret=1.0384732457849313 math.pow=1.038468775134351\n",
      "Success n=62 k=5 ret=1.037832136858468 math.pow=1.0378367193526972\n",
      "Success n=63 k=6 ret=1.0372251408008706 math.pow=1.0372250954070572\n",
      "Success n=64 k=6 ret=1.03663292844276 math.pow=1.036632928437698\n",
      "Success n=65 k=6 ret=1.0360593222574446 math.pow=1.0360593046256343\n",
      "Success n=66 k=6 ret=1.0355034208240759 math.pow=1.0355033664891309\n",
      "Success n=67 k=6 ret=1.0349643761575082 math.pow=1.034964308608479\n",
      "Success n=68 k=6 ret=1.0344411218859144 math.pow=1.0344413737342368\n",
      "Success n=69 k=6 ret=1.0339337073056551 math.pow=1.0339338492393992\n",
      "Success n=70 k=6 ret=1.0334406178686646 math.pow=1.0334410638805562\n",
      "Success n=71 k=6 ret=1.032961447759909 math.pow=1.0329623848370932\n",
      "Success n=72 k=6 ret=1.0324974221253225 math.pow=1.0324972150009861\n",
      "Success n=73 k=6 ret=1.0320453627303219 math.pow=1.032044990492786\n",
      "Success n=74 k=6 ret=1.03160579570297 math.pow=1.0316051783820805\n",
      "Success n=75 k=6 ret=1.0311782394277023 math.pow=1.0311772745930552\n",
      "Success n=76 k=6 ret=1.0307622424278087 math.pow=1.03076080197786\n",
      "Success n=77 k=6 ret=1.0303548875962776 math.pow=1.030355308542301\n",
      "Success n=78 k=6 ret=1.029959732649674 math.pow=1.02996036580999\n",
      "Success n=79 k=6 ret=1.0295746431898825 math.pow=1.0295755673125127\n",
      "Success n=80 k=6 ret=1.029199212523264 math.pow=1.0292005271944282\n",
      "Success n=81 k=6 ret=1.028833049512149 math.pow=1.0288348789230457\n",
      "Success n=82 k=6 ret=1.0284789767340667 math.pow=1.0284782740939042\n",
      "Success n=83 k=6 ret=1.0281313768543403 math.pow=1.0281303813237808\n",
      "Success n=84 k=6 ret=1.027792270903771 math.pow=1.0277908852238316\n",
      "Success n=85 k=6 ret=1.0274613837727238 math.pow=1.0274594854461803\n",
      "Success n=86 k=6 ret=1.0271350148947067 math.pow=1.0271358957978989\n",
      "Success n=87 k=6 ret=1.026818615850786 math.pow=1.0268198434168874\n",
      "Success n=88 k=6 ret=1.0265093806742165 math.pow=1.0265110680046625\n",
      "Success n=89 k=6 ret=1.0262070308143447 math.pow=1.0262093211115306\n",
      "Success n=90 k=6 ret=1.02591561442343 math.pow=1.0259143654700098\n",
      "Success n=91 k=6 ret=1.0256276962630073 math.pow=1.025625974372752\n",
      "Success n=92 k=6 ret=1.0253462783562295 math.pow=1.0253439310915329\n",
      "Success n=93 k=6 ret=1.0250665942562662 math.pow=1.0250680283341829\n",
      "Success n=94 k=6 ret=1.0247960864096317 math.pow=1.0247980677365989\n",
      "Success n=95 k=6 ret=1.0245311502025278 math.pow=1.0245338593872233\n",
      "Success n=96 k=6 ret=1.0242770565534132 math.pow=1.0242752213815922\n",
      "Success n=97 k=6 ret=1.0240245189798185 math.pow=1.0240219794047603\n",
      "Success n=98 k=6 ret=1.0237721180370816 math.pow=1.023773966339585\n",
      "Success n=99 k=6 ret=1.0235284380693805 math.pow=1.0235310218990261\n",
      "Success n=100 k=6 ret=1.0232894143647413 math.pow=1.023292992280754\n",
      "Success n=101 k=6 ret=1.0230625701907625 math.pow=1.0230597298425086\n",
      "Success n=102 k=6 ret=1.022828737165837 math.pow=1.0228310927967654\n",
      "Success n=103 k=6 ret=1.0226035968634357 math.pow=1.022606944923386\n",
      "Success n=104 k=6 ret=1.022390103841955 math.pow=1.0223871552990256\n",
      "Success n=105 k=6 ret=1.0221688965616331 math.pow=1.0221715980421688\n",
      "Success n=106 k=6 ret=1.0219562287889108 math.pow=1.0219601520727555\n",
      "Success n=107 k=6 ret=1.0217564959278536 math.pow=1.0217527008854244\n",
      "Success n=108 k=6 ret=1.0215453277769941 math.pow=1.0215491323354893\n",
      "Success n=109 k=6 ret=1.0213532955788587 math.pow=1.0213493384368186\n",
      "Success n=110 k=6 ret=1.0211562750413399 math.pow=1.0211532151708518\n",
      "Success n=111 k=6 ret=1.0209571865478129 math.pow=1.0209606623060468\n",
      "Success n=112 k=6 ret=1.0207756626146756 math.pow=1.020771583227097\n",
      "Success n=113 k=6 ret=1.0205896620679213 math.pow=1.0205858847733071\n",
      "Success n=114 k=6 ret=1.0204072279124383 math.pow=1.0204034770855621\n",
      "Success n=115 k=6 ret=1.0202282585595963 math.pow=1.0202242734613562\n",
      "Success n=116 k=6 ret=1.0200445197825538 math.pow=1.0200481902173963\n",
      "Success n=117 k=6 ret=1.0198706273716387 math.pow=1.0198751465593192\n",
      "Success n=118 k=6 ret=1.0197008559409078 math.pow=1.0197050644580963\n",
      "Success n=119 k=6 ret=1.0195333986622723 math.pow=1.0195378685327303\n",
      "Success n=120 k=6 ret=1.019369358909913 math.pow=1.0193734859388728\n",
      "Success n=121 k=6 ret=1.019207224960606 math.pow=1.0192118462630158\n",
      "Success n=122 k=6 ret=1.0190575223324532 math.pow=1.0190528814219364\n",
      "Success n=123 k=6 ret=1.0188920762581493 math.pow=1.0188965255670916\n",
      "Success n=124 k=6 ret=1.0187380957985317 math.pow=1.0187427149936814\n",
      "Success n=125 k=7 ret=1.0185915502514065 math.pow=1.0185913880541169\n",
      "Success n=126 k=7 ret=1.0184425639994197 math.pow=1.018442485075646\n",
      "Success n=127 k=7 ret=1.01829597441586 math.pow=1.018295948281905\n",
      "Success n=128 k=7 ret=1.0181517219024308 math.pow=1.018151721718182\n",
      "Success n=129 k=7 ret=1.0180097486267412 math.pow=1.0180097511801844\n"
     ]
    },
    {
     "data": {
      "text/plain": [
       "0"
      ]
     },
     "execution_count": 170,
     "metadata": {},
     "output_type": "execute_result"
    }
   ],
   "source": [
    "(search-num-average-for-n 10 1)"
   ]
  },
  {
   "cell_type": "code",
   "execution_count": 176,
   "metadata": {
    "vscode": {
     "languageId": "python"
    }
   },
   "outputs": [],
   "source": [
    "(define log math.log)\n",
    "(define (log2 x)\n",
    "  (/ (log x) (log 2))\n",
    ")\n",
    "\n",
    "(define (nth-root x n)\n",
    "  (let ((k (int (log2 n))))\n",
    "    (nth-root-by-k x n k)\n",
    "  )\n",
    ")"
   ]
  },
  {
   "cell_type": "code",
   "execution_count": 174,
   "metadata": {
    "vscode": {
     "languageId": "python"
    }
   },
   "outputs": [
    {
     "data": {
      "text/plain": [
       "1.333521432163324"
      ]
     },
     "execution_count": 174,
     "metadata": {},
     "output_type": "execute_result"
    }
   ],
   "source": [
    "(nth-root 10 8)"
   ]
  },
  {
   "cell_type": "code",
   "execution_count": 175,
   "metadata": {
    "vscode": {
     "languageId": "python"
    }
   },
   "outputs": [
    {
     "data": {
      "text/plain": [
       "1.333521432163324"
      ]
     },
     "execution_count": 175,
     "metadata": {},
     "output_type": "execute_result"
    }
   ],
   "source": [
    "(nth-root-math 10 8)"
   ]
  },
  {
   "cell_type": "code",
   "execution_count": null,
   "metadata": {
    "vscode": {
     "languageId": "python"
    }
   },
   "outputs": [],
   "source": []
  }
 ],
 "metadata": {
  "kernelspec": {
   "display_name": "Calysto Scheme 3",
   "language": "scheme",
   "name": "calysto_scheme"
  },
  "language_info": {
   "codemirror_mode": {
    "name": "scheme"
   },
   "mimetype": "text/x-scheme",
   "name": "scheme",
   "pygments_lexer": "scheme"
  },
  "orig_nbformat": 4
 },
 "nbformat": 4,
 "nbformat_minor": 2
}
