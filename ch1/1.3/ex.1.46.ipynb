{
 "cells": [
  {
   "cell_type": "code",
   "execution_count": 2,
   "metadata": {
    "vscode": {
     "languageId": "python"
    }
   },
   "outputs": [],
   "source": [
    "(define (iterative-improve good-enough? improve)\n",
    "  (define (improve-process guess)\n",
    "    (if (good-enough? guess)\n",
    "      guess\n",
    "      (improve-process (improve guess))\n",
    "    )\n",
    "  )\n",
    "  improve-process\n",
    "\n",
    ")"
   ]
  },
  {
   "cell_type": "code",
   "execution_count": 50,
   "metadata": {
    "vscode": {
     "languageId": "python"
    }
   },
   "outputs": [],
   "source": [
    "(define (square x)\n",
    "  (* x x)\n",
    "  )\n",
    "\n",
    "(define (abs x)\n",
    "  (if (>= x 0) x (- x))\n",
    ")\n",
    "\n",
    "\n",
    "(define (average x y)\n",
    "  (/ (+ x y) 2)\n",
    "  )\n",
    "\n",
    "\n",
    "(define (sqrt-iter guess x)\n",
    "  (if (good-enough? guess x)\n",
    "      guess ; then\n",
    "      (sqrt-iter (improve guess x) x) ; else\n",
    "    )\n",
    ")\n",
    "(define (sqrt x)\n",
    "  (define (improve guess)\n",
    "    (average guess (/ x guess))\n",
    "  )\n",
    "  (define (good-enough? guess)\n",
    "    (< (abs (- (square guess) x)) 0.001)\n",
    "  )\n",
    "  ((iterative-improve good-enough? improve) 1.0)\n",
    ")\n"
   ]
  },
  {
   "cell_type": "code",
   "execution_count": 9,
   "metadata": {
    "vscode": {
     "languageId": "python"
    }
   },
   "outputs": [
    {
     "data": {
      "text/plain": [
       "1.7321428571428572"
      ]
     },
     "execution_count": 9,
     "metadata": {},
     "output_type": "execute_result"
    }
   ],
   "source": [
    "(sqrt 3)"
   ]
  },
  {
   "cell_type": "code",
   "execution_count": 36,
   "metadata": {
    "vscode": {
     "languageId": "python"
    }
   },
   "outputs": [],
   "source": [
    "(define (fixed-point f first-guess)\n",
    "  (define (close-enough? v1 v2)\n",
    "    (< (abs (- v1 v2)) tolerance))\n",
    "  (define (_try guess)\n",
    "    (let ((next (f guess)))\n",
    "      (if (close-enough? guess next)\n",
    "          next\n",
    "          (_try next))))\n",
    "  (_try first-guess)\n",
    ")\n",
    "\n",
    "(define (fixed-point f)\n",
    "  (define tolerance 0.00001)\n",
    "  (define (close-enough? guess)\n",
    "    (< (abs (- guess (f guess))) tolerance))\n",
    "  (iterative-improve close-enough? f)\n",
    ")"
   ]
  },
  {
   "cell_type": "markdown",
   "metadata": {},
   "source": []
  },
  {
   "cell_type": "code",
   "execution_count": 58,
   "metadata": {
    "vscode": {
     "languageId": "python"
    }
   },
   "outputs": [],
   "source": [
    "; define sqrt by fixed-point\n",
    "(define (sqrt2 x)\n",
    "  ((fixed-point (lambda (y) (average y (/ x y)))) 1.0)\n",
    ")"
   ]
  },
  {
   "cell_type": "code",
   "execution_count": 59,
   "metadata": {
    "vscode": {
     "languageId": "python"
    }
   },
   "outputs": [
    {
     "data": {
      "text/plain": [
       "1.4142156862745097"
      ]
     },
     "execution_count": 59,
     "metadata": {},
     "output_type": "execute_result"
    }
   ],
   "source": [
    "(sqrt2 2)"
   ]
  },
  {
   "cell_type": "code",
   "execution_count": null,
   "metadata": {
    "vscode": {
     "languageId": "python"
    }
   },
   "outputs": [],
   "source": []
  }
 ],
 "metadata": {
  "kernelspec": {
   "display_name": "Calysto Scheme 3",
   "language": "scheme",
   "name": "calysto_scheme"
  },
  "language_info": {
   "codemirror_mode": {
    "name": "scheme"
   },
   "mimetype": "text/x-scheme",
   "name": "scheme",
   "pygments_lexer": "scheme"
  },
  "orig_nbformat": 4
 },
 "nbformat": 4,
 "nbformat_minor": 2
}
