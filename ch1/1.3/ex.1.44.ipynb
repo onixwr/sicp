{
 "cells": [
  {
   "cell_type": "code",
   "execution_count": 1,
   "metadata": {
    "vscode": {
     "languageId": "python"
    }
   },
   "outputs": [],
   "source": [
    "(define (compose f g)\n",
    "  (lambda (x) (f (g x)))\n",
    ")\n",
    "\n",
    "(define (repeated f k)\n",
    "  (define (itr g i)\n",
    "    (if (= i 1)\n",
    "      g\n",
    "      (itr (compose g f) (- i 1))\n",
    "    )\n",
    "  )\n",
    "  (itr f k)\n",
    ")"
   ]
  },
  {
   "cell_type": "code",
   "execution_count": 4,
   "metadata": {
    "vscode": {
     "languageId": "python"
    }
   },
   "outputs": [],
   "source": [
    "(define dx 0.0001)\n",
    "(define (smooth f)\n",
    "  (lambda (x)\n",
    "    (/ (+ (f (x - dx)) (f x) (f (+ x dx)) ) )\n",
    "  )\n",
    ")\n",
    "\n",
    "(define (n-smooth f n)\n",
    "  ((repeated smooth n) f)\n",
    ")"
   ]
  },
  {
   "cell_type": "code",
   "execution_count": null,
   "metadata": {
    "vscode": {
     "languageId": "python"
    }
   },
   "outputs": [],
   "source": []
  }
 ],
 "metadata": {
  "kernelspec": {
   "display_name": "Calysto Scheme 3",
   "language": "scheme",
   "name": "calysto_scheme"
  },
  "language_info": {
   "codemirror_mode": {
    "name": "scheme"
   },
   "mimetype": "text/x-scheme",
   "name": "scheme",
   "pygments_lexer": "scheme"
  },
  "orig_nbformat": 4
 },
 "nbformat": 4,
 "nbformat_minor": 2
}
