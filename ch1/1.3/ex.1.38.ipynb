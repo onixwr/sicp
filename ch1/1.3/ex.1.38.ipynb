{
 "cells": [
  {
   "cell_type": "code",
   "execution_count": 24,
   "metadata": {
    "vscode": {
     "languageId": "python"
    }
   },
   "outputs": [],
   "source": [
    ";recursive process\n",
    "(define (cont-frac-r n d k)\n",
    "  (define (itr i)\n",
    "    (if (= i k)\n",
    "      (/ (n i) (d i))\n",
    "      (/ (n i)(+ (d i) (itr (+ i 1))))\n",
    "    )\n",
    "  )\n",
    "  (itr 1)\n",
    ")"
   ]
  },
  {
   "cell_type": "code",
   "execution_count": 25,
   "metadata": {
    "vscode": {
     "languageId": "python"
    }
   },
   "outputs": [],
   "source": [
    "; linear process\n",
    "(define (cont-frac-l n d k)\n",
    "  (define (itr i result)\n",
    "    (if (= i 0)\n",
    "      result\n",
    "      (itr (- i 1) (/ (n i)(+ (d i) result)))\n",
    "    )\n",
    "  )\n",
    "  (itr k 0)\n",
    ")"
   ]
  },
  {
   "cell_type": "code",
   "execution_count": 26,
   "metadata": {
    "vscode": {
     "languageId": "python"
    }
   },
   "outputs": [
    {
     "data": {
      "text/plain": [
       "0.6180339850173578"
      ]
     },
     "execution_count": 26,
     "metadata": {},
     "output_type": "execute_result"
    }
   ],
   "source": [
    "(cont-frac-r (lambda (i) 1.0)\n",
    "  (lambda (i) 1.0)\n",
    "  20\n",
    ")"
   ]
  },
  {
   "cell_type": "code",
   "execution_count": 27,
   "metadata": {
    "vscode": {
     "languageId": "python"
    }
   },
   "outputs": [
    {
     "data": {
      "text/plain": [
       "0.6180339850173578"
      ]
     },
     "execution_count": 27,
     "metadata": {},
     "output_type": "execute_result"
    }
   ],
   "source": [
    "(cont-frac-l (lambda (i) 1.0)\n",
    "  (lambda (i) 1.0)\n",
    "  20\n",
    ")"
   ]
  },
  {
   "cell_type": "code",
   "execution_count": 28,
   "metadata": {
    "vscode": {
     "languageId": "python"
    }
   },
   "outputs": [
    {
     "name": "stdout",
     "output_type": "stream",
     "text": [
      "1.618033988749895\n",
      "0.6180339887498948"
     ]
    }
   ],
   "source": [
    "(define PHI (/ (+ 1 (sqrt 5)) 2 ))\n",
    "(display PHI)\n",
    "(newline)\n",
    "(define INV_PHI (/ 1 PHI))\n",
    "(display INV_PHI)"
   ]
  },
  {
   "cell_type": "code",
   "execution_count": 29,
   "metadata": {
    "vscode": {
     "languageId": "python"
    }
   },
   "outputs": [],
   "source": [
    "(define (diff a b) (abs (- a b)))\n",
    "(define tolerance 0.00001)\n",
    "(define (search f target tolerance)\n",
    "  (define (itr i)\n",
    "    (display (format \"~a : ~a\\n\" i  (f i) ))\n",
    "    (if (< (diff (f i) target) tolerance)\n",
    "      i\n",
    "      (itr (+ i 1))\n",
    "    )\n",
    "  )\n",
    "  (itr 1)\n",
    ")"
   ]
  },
  {
   "cell_type": "code",
   "execution_count": 30,
   "metadata": {
    "vscode": {
     "languageId": "python"
    }
   },
   "outputs": [],
   "source": [
    "(define (cont-trac-r11 i)\n",
    "  (cont-frac-r (lambda (i) 1.0)\n",
    "    (lambda (i) 1.0)\n",
    "    i\n",
    "  )\n",
    ")\n"
   ]
  },
  {
   "cell_type": "code",
   "execution_count": 31,
   "metadata": {
    "vscode": {
     "languageId": "python"
    }
   },
   "outputs": [
    {
     "name": "stdout",
     "output_type": "stream",
     "text": [
      "1 : 1.0\n",
      "2 : 0.5\n",
      "3 : 0.6666666666666666\n",
      "4 : 0.6000000000000001\n",
      "5 : 0.625\n",
      "6 : 0.6153846153846154\n",
      "7 : 0.6190476190476191\n",
      "8 : 0.6176470588235294\n",
      "9 : 0.6181818181818182\n",
      "10 : 0.6179775280898876\n",
      "11 : 0.6180555555555556\n",
      "12 : 0.6180257510729613\n"
     ]
    },
    {
     "data": {
      "text/plain": [
       "12"
      ]
     },
     "execution_count": 31,
     "metadata": {},
     "output_type": "execute_result"
    }
   ],
   "source": [
    "(search cont-trac-r11 INV_PHI tolerance)"
   ]
  },
  {
   "cell_type": "code",
   "execution_count": null,
   "metadata": {
    "vscode": {
     "languageId": "python"
    }
   },
   "outputs": [],
   "source": []
  }
 ],
 "metadata": {
  "kernelspec": {
   "display_name": "Calysto Scheme 3",
   "language": "scheme",
   "name": "calysto_scheme"
  },
  "language_info": {
   "codemirror_mode": {
    "name": "scheme"
   },
   "mimetype": "text/x-scheme",
   "name": "scheme",
   "pygments_lexer": "scheme"
  },
  "orig_nbformat": 4
 },
 "nbformat": 4,
 "nbformat_minor": 2
}
