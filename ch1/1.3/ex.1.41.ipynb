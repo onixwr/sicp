{
 "cells": [
  {
   "cell_type": "code",
   "execution_count": 1,
   "metadata": {
    "vscode": {
     "languageId": "python"
    }
   },
   "outputs": [],
   "source": [
    "(define (double f)\n",
    "  (lambda (x) (f (f x)))\n",
    ")"
   ]
  },
  {
   "cell_type": "code",
   "execution_count": 3,
   "metadata": {
    "vscode": {
     "languageId": "python"
    }
   },
   "outputs": [],
   "source": [
    "(define (inc x)\n",
    "  (+ x 1)\n",
    ")"
   ]
  },
  {
   "cell_type": "code",
   "execution_count": 5,
   "metadata": {
    "vscode": {
     "languageId": "python"
    }
   },
   "outputs": [
    {
     "data": {
      "text/plain": [
       "3"
      ]
     },
     "execution_count": 5,
     "metadata": {},
     "output_type": "execute_result"
    }
   ],
   "source": [
    "((double inc) 1)"
   ]
  },
  {
   "cell_type": "code",
   "execution_count": 6,
   "metadata": {
    "vscode": {
     "languageId": "python"
    }
   },
   "outputs": [
    {
     "data": {
      "text/plain": [
       "21"
      ]
     },
     "execution_count": 6,
     "metadata": {},
     "output_type": "execute_result"
    }
   ],
   "source": [
    "(((double (double double)) inc )5)\n"
   ]
  },
  {
   "attachments": {},
   "cell_type": "markdown",
   "metadata": {},
   "source": [
    "```scheme\n",
    "(((double (double double)) inc )5)\n",
    "->\n",
    "(((double (lambda (x) (double (double x))) ) inc )5)\n",
    "\n",
    "-> \n",
    "((\n",
    "  (lambda (y) ((lambda (x) (double (double x))) ((lambda (x) (double (double x))) y)))\n",
    "  inc ) 5 )\n",
    "\n",
    "->\n",
    "(\n",
    "  ((lambda (x) (double (double x))) ((lambda (x) (double (double x))) inc))\n",
    "5 )\n",
    "->\n",
    "(\n",
    "  ((lambda (x) (double (double x))) (double (double inc)))\n",
    "5 )\n",
    "->\n",
    "(\n",
    "  ((lambda (x) (double (double x))) (double (inc2) ) )\n",
    "5 )\n",
    "->\n",
    "(\n",
    "  ((lambda (x) (double (double x))) (inc4) )\n",
    "5 )\n",
    "->\n",
    "(\n",
    "  (double (double (inc4)))\n",
    "5 )\n",
    "->\n",
    "(\n",
    "  (double inc8) 5\n",
    ")\n",
    "-> \n",
    "(\n",
    "  (double inc16) 5\n",
    ")\n",
    "-> 21\n",
    "```"
   ]
  }
 ],
 "metadata": {
  "kernelspec": {
   "display_name": "Calysto Scheme 3",
   "language": "scheme",
   "name": "calysto_scheme"
  },
  "language_info": {
   "codemirror_mode": {
    "name": "scheme"
   },
   "mimetype": "text/x-scheme",
   "name": "scheme",
   "pygments_lexer": "scheme"
  },
  "orig_nbformat": 4
 },
 "nbformat": 4,
 "nbformat_minor": 2
}
