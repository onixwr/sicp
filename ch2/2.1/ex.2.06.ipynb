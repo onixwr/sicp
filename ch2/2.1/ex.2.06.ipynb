{
 "cells": [
  {
   "cell_type": "code",
   "execution_count": 1,
   "metadata": {
    "vscode": {
     "languageId": "python"
    }
   },
   "outputs": [],
   "source": [
    "(define zero (lambda (f) (lambda (x) x)))\n",
    "\n",
    "(define (add-1 n)\n",
    "  (lambda (f) (lambda (x) (f ((n f) x)))))\n",
    "\n"
   ]
  },
  {
   "cell_type": "code",
   "execution_count": null,
   "metadata": {
    "vscode": {
     "languageId": "python"
    }
   },
   "outputs": [],
   "source": [
    "(define \n",
    "  zero \n",
    "  (lambda (f) (lambda (x) x))\n",
    ")\n",
    "\n",
    "(define (add-1 n)\n",
    "  (lambda (f) \n",
    "    (lambda (x) \n",
    "      (f \n",
    "        (\n",
    "          (\n",
    "            n \n",
    "            f) \n",
    "          x\n",
    "        )\n",
    "      )\n",
    "    )\n",
    "  )\n",
    ")\n"
   ]
  },
  {
   "cell_type": "code",
   "execution_count": null,
   "metadata": {
    "vscode": {
     "languageId": "python"
    }
   },
   "outputs": [],
   "source": [
    "\n",
    ";one\n",
    "\n",
    "(add-1 zero)\n",
    ";->\n",
    "(lambda (f) \n",
    "  (lambda (x) \n",
    "    (f \n",
    "      (\n",
    "        (\n",
    "          zero \n",
    "          f) \n",
    "        x\n",
    "      )\n",
    "    )\n",
    "  )\n",
    ")\n",
    ";->\n",
    "(lambda (f) \n",
    "  (lambda (x) \n",
    "    (f \n",
    "      (\n",
    "        (\n",
    "          (lambda (f) (lambda (x) x))\n",
    "          f) \n",
    "        x\n",
    "      )\n",
    "    )\n",
    "  )\n",
    ")\n",
    ";->\n",
    "(lambda (f) \n",
    "  (lambda (x) \n",
    "    (f \n",
    "      (\n",
    "        (lambda (x) x))\n",
    "        x\n",
    "      )\n",
    "    )\n",
    "  )\n",
    ")\n",
    ";->\n",
    "(lambda (f) \n",
    "  (lambda (x) \n",
    "    (f \n",
    "      x\n",
    "    )\n",
    "  )\n",
    ")\n",
    ";->\n",
    "(lambda (f) (lambda (x) (f x)))\n"
   ]
  },
  {
   "cell_type": "code",
   "execution_count": null,
   "metadata": {
    "vscode": {
     "languageId": "python"
    }
   },
   "outputs": [],
   "source": [
    "(add-1 one)\n",
    ";->\n",
    "(lambda (f) \n",
    "  (lambda (x) \n",
    "    (f \n",
    "      (\n",
    "        (\n",
    "          one \n",
    "          f) \n",
    "        x\n",
    "      )\n",
    "    )\n",
    "  )\n",
    ")\n",
    ";->\n",
    "(lambda (f) \n",
    "  (lambda (x) \n",
    "    (f \n",
    "      (\n",
    "        (\n",
    "          (lambda (f) (lambda (x) (f x)))\n",
    "          f) \n",
    "        x\n",
    "      )\n",
    "    )\n",
    "  )\n",
    ")\n",
    ";->\n",
    "(lambda (f) \n",
    "  (lambda (x) \n",
    "    (f \n",
    "      (\n",
    "        (lambda (x) (f x))\n",
    "        x\n",
    "      )\n",
    "    )\n",
    "  )\n",
    ")\n",
    ";->\n",
    "(lambda (f) \n",
    "  (lambda (x) \n",
    "    (f \n",
    "      (\n",
    "        f x\n",
    "      )\n",
    "    )\n",
    "  )\n",
    ")\n",
    "->\n",
    "(lambda (f) (lambda (x) (f (f x))))"
   ]
  }
 ],
 "metadata": {
  "kernelspec": {
   "display_name": "Calysto Scheme 3",
   "language": "scheme",
   "name": "calysto_scheme"
  },
  "language_info": {
   "codemirror_mode": {
    "name": "scheme"
   },
   "mimetype": "text/x-scheme",
   "name": "scheme",
   "pygments_lexer": "scheme"
  },
  "orig_nbformat": 4
 },
 "nbformat": 4,
 "nbformat_minor": 2
}
