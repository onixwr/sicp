{
 "cells": [
  {
   "cell_type": "code",
   "execution_count": 1,
   "metadata": {},
   "outputs": [],
   "source": [
    "(define (add-interval x y)\n",
    "  (make-interval (+ (lower-bound x) (lower-bound y))\n",
    "                 (+ (upper-bound x) (upper-bound y))))\n",
    "\n",
    "(define (mul-interval x y)\n",
    "  (let ((p1 (* (lower-bound x) (lower-bound y)))\n",
    "        (p2 (* (lower-bound x) (upper-bound y)))\n",
    "        (p3 (* (upper-bound x) (lower-bound y)))\n",
    "        (p4 (* (upper-bound x) (upper-bound y))))\n",
    "    (make-interval (min p1 p2 p3 p4)\n",
    "                   (max p1 p2 p3 p4))))\n",
    "\n",
    "\n",
    "(define (make-interval a b) (const a b))\n",
    "(define (lower-bound i) (car i))\n",
    "(define (upper-bound i) (cdr i))\n"
   ]
  },
  {
   "cell_type": "code",
   "execution_count": 1,
   "metadata": {},
   "outputs": [],
   "source": [
    "(define (sub-interval x y)\n",
    "  (make-interval  (- (lower-bound x) (upper-bound y)\n",
    "                  (- (upper-bound x) (lower-bound y)))))"
   ]
  },
  {
   "cell_type": "code",
   "execution_count": 2,
   "metadata": {},
   "outputs": [],
   "source": [
    "(define (add-interval x y)\n",
    "  (make-interval (+ (lower-bound x) (lower-bound y))\n",
    "                 (+ (upper-bound x) (upper-bound y))))\n",
    "\n",
    "(define (mul-interval x y)\n",
    "  (let ((p1 (* (lower-bound x) (lower-bound y)))\n",
    "        (p2 (* (lower-bound x) (upper-bound y)))\n",
    "        (p3 (* (upper-bound x) (lower-bound y)))\n",
    "        (p4 (* (upper-bound x) (upper-bound y))))\n",
    "    (make-interval (min p1 p2 p3 p4)\n",
    "                   (max p1 p2 p3 p4))))\n",
    "\n",
    "(define (div-interval x y)\n",
    "  (mul-interval x \n",
    "                (make-interval (/ 1.0 (upper-bound y))\n",
    "                               (/ 1.0 (lower-bound y)))))\n",
    "\n",
    "(define (make-interval a b) (const a b))\n",
    "(define (lower-bound i) (car i))\n",
    "(define (upper-bound i) (cdr i))"
   ]
  },
  {
   "cell_type": "code",
   "execution_count": 4,
   "metadata": {},
   "outputs": [],
   "source": [
    "(define (make-interval a b) (cons a b))\n",
    "(define (lower-bound i) (car i))\n",
    "(define (upper-bound i) (cdr i))"
   ]
  },
  {
   "cell_type": "code",
   "execution_count": 5,
   "metadata": {},
   "outputs": [],
   "source": [
    "(define (contains-zero-interval i)\n",
    "  (if\n",
    "    (and\n",
    "      (<= (lower-bound i) 0)\n",
    "      (>= (upper-bound i) 0)\n",
    "    ) \n",
    "    #t\n",
    "    #f\n",
    "  )\n",
    ")"
   ]
  },
  {
   "cell_type": "code",
   "execution_count": 6,
   "metadata": {},
   "outputs": [
    {
     "data": {
      "text/plain": [
       "#t"
      ]
     },
     "execution_count": 6,
     "metadata": {},
     "output_type": "execute_result"
    }
   ],
   "source": [
    "(contains-zero-interval (make-interval -1 1))"
   ]
  },
  {
   "cell_type": "code",
   "execution_count": 8,
   "metadata": {},
   "outputs": [],
   "source": [
    "(define (div-interval x y)\n",
    "  (if (contains-zero-interval y)\n",
    "    (error \"div-interval\" \"contains zero interval\")\n",
    "    (mul-interval x \n",
    "                  (make-interval (/ 1.0 (upper-bound y))\n",
    "                                (/ 1.0 (lower-bound y)))))\n",
    ")"
   ]
  },
  {
   "cell_type": "code",
   "execution_count": null,
   "metadata": {},
   "outputs": [],
   "source": []
  }
 ],
 "metadata": {
  "kernelspec": {
   "display_name": "Calysto Scheme 3",
   "language": "scheme",
   "name": "calysto_scheme"
  },
  "language_info": {
   "codemirror_mode": {
    "name": "scheme"
   },
   "mimetype": "text/x-scheme",
   "name": "scheme",
   "pygments_lexer": "scheme"
  },
  "orig_nbformat": 4
 },
 "nbformat": 4,
 "nbformat_minor": 2
}
