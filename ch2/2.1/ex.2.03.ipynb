{
 "cells": [
  {
   "cell_type": "code",
   "execution_count": 71,
   "metadata": {
    "vscode": {
     "languageId": "python"
    }
   },
   "outputs": [],
   "source": [
    "(define (make-point x y)\n",
    "  (cons x y))\n",
    "\n",
    "(define (x-point p)\n",
    "  (car p))\n",
    "\n",
    "(define (y-point p)\n",
    "  (cdr p))\n",
    "\n",
    "(define (print-point p)\n",
    "  (display \"(\")\n",
    "  (display (x-point p))\n",
    "  (display \",\")\n",
    "  (display (y-point p))\n",
    "  (display \")\"))"
   ]
  },
  {
   "attachments": {},
   "cell_type": "markdown",
   "metadata": {},
   "source": [
    "First implementation; Left-Top point and Right-Bottom point"
   ]
  },
  {
   "cell_type": "code",
   "execution_count": 72,
   "metadata": {
    "vscode": {
     "languageId": "python"
    }
   },
   "outputs": [],
   "source": [
    "; First implementation\n",
    "(define (make-rectangle x0 y0 x1 y1)\n",
    "  (cons (make-point x0 y0) (make-point x1 y1))\n",
    ")\n",
    "(define (lefttop-rectangle r)\n",
    "  (car r)\n",
    ")\n",
    "(define (rightbottom-rectangle r)\n",
    "  (cdr r)\n",
    ")\n",
    "(define (print-rectangle r)\n",
    "  (display \"(\")\n",
    "  (print-point (lefttop-rectangle r))\n",
    "  (display \",\")\n",
    "  (print-point (rightbottom-rectangle r))\n",
    "  (display \")\"))\n"
   ]
  },
  {
   "cell_type": "code",
   "execution_count": 102,
   "metadata": {
    "vscode": {
     "languageId": "python"
    }
   },
   "outputs": [],
   "source": [
    "(define (perimeter-rectangle r)\n",
    "  (let \n",
    "    ((p0 (lefttop-rectangle r))\n",
    "     (p1 (rightbottom-rectangle r)))\n",
    "    (let \n",
    "      (\n",
    "        (x0 (x-point p0))\n",
    "        (y0 (y-point p0))\n",
    "        (x1 (x-point p1))\n",
    "        (y1 (y-point p1))\n",
    "      )\n",
    "      (* 2 (+ (abs (- x0 x1)) (abs (- y0 y1)) ))\n",
    "    )\n",
    "  )\n",
    ")\n",
    "\n",
    "(define (area-rectangle r)\n",
    "  (let \n",
    "    ((p0 (lefttop-rectangle r))\n",
    "     (p1 (rightbottom-rectangle r)))\n",
    "    (let \n",
    "      (\n",
    "        (x0 (x-point p0))\n",
    "        (y0 (y-point p0))\n",
    "        (x1 (x-point p1))\n",
    "        (y1 (y-point p1))\n",
    "      )\n",
    "      (* (abs (- x0 x1)) (abs (- y0 y1)) )\n",
    "    )\n",
    "  )\n",
    ")"
   ]
  },
  {
   "cell_type": "code",
   "execution_count": 103,
   "metadata": {
    "vscode": {
     "languageId": "python"
    }
   },
   "outputs": [
    {
     "name": "stdout",
     "output_type": "stream",
     "text": [
      "((1,2),w:3,h:6)"
     ]
    }
   ],
   "source": [
    "(define r (make-rectangle 1 2 3 6))\n",
    "(print-rectangle r)"
   ]
  },
  {
   "cell_type": "code",
   "execution_count": 104,
   "metadata": {
    "vscode": {
     "languageId": "python"
    }
   },
   "outputs": [
    {
     "data": {
      "text/plain": [
       "18"
      ]
     },
     "execution_count": 104,
     "metadata": {},
     "output_type": "execute_result"
    }
   ],
   "source": [
    "(perimeter-rectangle r)"
   ]
  },
  {
   "cell_type": "code",
   "execution_count": 105,
   "metadata": {
    "vscode": {
     "languageId": "python"
    }
   },
   "outputs": [
    {
     "data": {
      "text/plain": [
       "18"
      ]
     },
     "execution_count": 105,
     "metadata": {},
     "output_type": "execute_result"
    }
   ],
   "source": [
    "(area-rectangle r)"
   ]
  },
  {
   "attachments": {},
   "cell_type": "markdown",
   "metadata": {},
   "source": [
    "Second implementation; Left-Top point and Width-Height"
   ]
  },
  {
   "cell_type": "code",
   "execution_count": 106,
   "metadata": {
    "vscode": {
     "languageId": "python"
    }
   },
   "outputs": [],
   "source": [
    "; First implementation\n",
    "(define (make-rectangle x y w h)\n",
    "  (cons (make-point x y) (cons w h))\n",
    ")\n",
    "(define (lefttop-rectangle r)\n",
    "  (car r)\n",
    ")\n",
    "(define (width-rectangle r)\n",
    "  (car (cdr r))\n",
    ")\n",
    "(define (height-rectangle r)\n",
    "  (cdr (cdr r))\n",
    ")\n",
    "\n",
    "(define (rightbottom-rectangle r)\n",
    "  (let\n",
    "    (\n",
    "      (p0 (lefttop-rectangle r))\n",
    "      (w (width-rectangle r))\n",
    "      (h (height-rectangle r))\n",
    "    )\n",
    "    (make-point (+ (x-point p0) w) (+ (y-point p0) h) )\n",
    "  )\n",
    ")\n",
    "\n",
    "(define (print-rectangle r)\n",
    "  (display \"(\")\n",
    "  (print-point (lefttop-rectangle r))\n",
    "  (display \",w:\")\n",
    "  (display (width-rectangle r))\n",
    "  (display \",h:\")\n",
    "  (display (height-rectangle r))\n",
    "  (display \")\"))"
   ]
  },
  {
   "cell_type": "code",
   "execution_count": 107,
   "metadata": {
    "vscode": {
     "languageId": "python"
    }
   },
   "outputs": [
    {
     "name": "stdout",
     "output_type": "stream",
     "text": [
      "((1,2),w:2,h:3)"
     ]
    }
   ],
   "source": [
    "(define r (make-rectangle 1 2 2 3))\n",
    "(print-rectangle r)"
   ]
  },
  {
   "cell_type": "code",
   "execution_count": 108,
   "metadata": {
    "vscode": {
     "languageId": "python"
    }
   },
   "outputs": [
    {
     "data": {
      "text/plain": [
       "10"
      ]
     },
     "execution_count": 108,
     "metadata": {},
     "output_type": "execute_result"
    }
   ],
   "source": [
    "(perimeter-rectangle r)"
   ]
  },
  {
   "cell_type": "code",
   "execution_count": 109,
   "metadata": {
    "vscode": {
     "languageId": "python"
    }
   },
   "outputs": [
    {
     "data": {
      "text/plain": [
       "(3 . 5)"
      ]
     },
     "execution_count": 109,
     "metadata": {},
     "output_type": "execute_result"
    }
   ],
   "source": [
    "(rightbottom-rectangle r)"
   ]
  },
  {
   "cell_type": "code",
   "execution_count": 110,
   "metadata": {
    "vscode": {
     "languageId": "python"
    }
   },
   "outputs": [
    {
     "data": {
      "text/plain": [
       "6"
      ]
     },
     "execution_count": 110,
     "metadata": {},
     "output_type": "execute_result"
    }
   ],
   "source": [
    "(area-rectangle r)"
   ]
  },
  {
   "cell_type": "code",
   "execution_count": null,
   "metadata": {
    "vscode": {
     "languageId": "python"
    }
   },
   "outputs": [],
   "source": []
  }
 ],
 "metadata": {
  "kernelspec": {
   "display_name": "Calysto Scheme 3",
   "language": "scheme",
   "name": "calysto_scheme"
  },
  "language_info": {
   "codemirror_mode": {
    "name": "scheme"
   },
   "mimetype": "text/x-scheme",
   "name": "scheme",
   "pygments_lexer": "scheme"
  },
  "orig_nbformat": 4
 },
 "nbformat": 4,
 "nbformat_minor": 2
}
