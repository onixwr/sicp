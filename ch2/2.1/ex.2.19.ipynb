{
 "cells": [
  {
   "cell_type": "code",
   "execution_count": 3,
   "metadata": {},
   "outputs": [],
   "source": [
    "(define us-coins (list 50 25 10 5 1))\n",
    "(define uk-coins (list 100 50 20 10 5 2 1 0.5))"
   ]
  },
  {
   "cell_type": "code",
   "execution_count": 8,
   "metadata": {},
   "outputs": [],
   "source": [
    "(define (cc amount coin-values)\n",
    "  (cond ((= amount 0) 1)\n",
    "        ((or (< amount 0) (no-more? coin-values)) 0)\n",
    "        (else\n",
    "        (+ \n",
    "          (cc amount\n",
    "                (except-first-denomination coin-values))\n",
    "          (cc (- amount\n",
    "                (first-denomination coin-values))\n",
    "              coin-values\n",
    "          )\n",
    "        ))))\n",
    "\n",
    "(define (no-more? coin-values)\n",
    "  (null? coin-values)\n",
    ")\n",
    "\n",
    "(define (except-first-denomination coin-values)\n",
    "  (cdr coin-values)\n",
    ")\n",
    "\n",
    "(define (first-denomination coin-values)\n",
    "  (car coin-values)\n",
    ")\n"
   ]
  },
  {
   "cell_type": "code",
   "execution_count": 9,
   "metadata": {},
   "outputs": [
    {
     "data": {
      "text/plain": [
       "292"
      ]
     },
     "execution_count": 9,
     "metadata": {},
     "output_type": "execute_result"
    }
   ],
   "source": [
    "(cc 100 us-coins)"
   ]
  },
  {
   "cell_type": "code",
   "execution_count": null,
   "metadata": {},
   "outputs": [],
   "source": []
  }
 ],
 "metadata": {
  "kernelspec": {
   "display_name": "Calysto Scheme 3",
   "language": "scheme",
   "name": "calysto_scheme"
  },
  "language_info": {
   "codemirror_mode": {
    "name": "scheme"
   },
   "mimetype": "text/x-scheme",
   "name": "scheme",
   "pygments_lexer": "scheme"
  },
  "orig_nbformat": 4
 },
 "nbformat": 4,
 "nbformat_minor": 2
}
