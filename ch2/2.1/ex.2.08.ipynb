{
 "cells": [
  {
   "cell_type": "code",
   "execution_count": 1,
   "metadata": {},
   "outputs": [],
   "source": [
    "(define (add-interval x y)\n",
    "  (make-interval (+ (lower-bound x) (lower-bound y))\n",
    "                 (+ (upper-bound x) (upper-bound y))))\n",
    "\n",
    "(define (mul-interval x y)\n",
    "  (let ((p1 (* (lower-bound x) (lower-bound y)))\n",
    "        (p2 (* (lower-bound x) (upper-bound y)))\n",
    "        (p3 (* (upper-bound x) (lower-bound y)))\n",
    "        (p4 (* (upper-bound x) (upper-bound y))))\n",
    "    (make-interval (min p1 p2 p3 p4)\n",
    "                   (max p1 p2 p3 p4))))\n",
    "\n",
    "(define (div-interval x y)\n",
    "  (mul-interval x \n",
    "                (make-interval (/ 1.0 (upper-bound y))\n",
    "                               (/ 1.0 (lower-bound y)))))\n",
    "\n",
    "(define (make-interval a b) (cons a b))\n",
    "(define (lower-bound i) (car i))\n",
    "(define (upper-bound i) (cdr i))\n"
   ]
  },
  {
   "cell_type": "code",
   "execution_count": 2,
   "metadata": {},
   "outputs": [],
   "source": [
    "(define (sub-interval x y)\n",
    "  (make-interval  (- (lower-bound x) (upper-bound y)\n",
    "                  (- (upper-bound x) (lower-bound y)))))"
   ]
  }
 ],
 "metadata": {
  "kernelspec": {
   "display_name": "Calysto Scheme 3",
   "language": "scheme",
   "name": "calysto_scheme"
  },
  "language_info": {
   "codemirror_mode": {
    "name": "scheme"
   },
   "mimetype": "text/x-scheme",
   "name": "scheme",
   "pygments_lexer": "scheme"
  },
  "orig_nbformat": 4
 },
 "nbformat": 4,
 "nbformat_minor": 2
}
