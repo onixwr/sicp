{
 "cells": [
  {
   "attachments": {},
   "cell_type": "markdown",
   "metadata": {},
   "source": [
    "$\n",
    "X = [x_0, x_1]\\  Y = [y_0, y_1]\n",
    "$\n",
    "\n",
    "$\n",
    "W(X) = x_1-x_0\\ W(Y) = y_1-y_0\n",
    "$\n",
    "\n",
    "$\n",
    "[x_0, x_1] \\pm [y_0, y_1] = [x_0\\pm y_0, x_1 \\pm y_1]\n",
    "$\n",
    "\n",
    "$\n",
    "W(X\\pm Y) = (x_1 \\pm y_1) - (x_0 \\pm y_0) \\\\\n",
    " = (x_1 - x_0) \\pm (y_1 - y_0) \\\\\n",
    " = W(X) \\pm W(Y)\n",
    "$\n"
   ]
  },
  {
   "attachments": {},
   "cell_type": "markdown",
   "metadata": {},
   "source": [
    "$\n",
    "[x_0,x_1] [y_0, y_1] = [min(x_0 y_0, x_0 y_1, x_1 y_0, x_1 y_1), max(x_0 y_0, x_0 y_1, x_1 y_0, x_1 y_1)]\n",
    "$\n",
    "\n",
    "$\n",
    "W(XY) = max(x_0 y_0, x_0 y_1, x_1 y_0, x_1 y_1) - min(x_0 y_0, x_0 y_1, x_1 y_0, x_1 y_1)\n",
    "$\n",
    "\n",
    "$\n",
    "よってW(XY)はW(X),W(Y)の関数ではない\n",
    "$"
   ]
  },
  {
   "cell_type": "code",
   "execution_count": null,
   "metadata": {},
   "outputs": [],
   "source": []
  }
 ],
 "metadata": {
  "kernelspec": {
   "display_name": "Calysto Scheme 3",
   "language": "scheme",
   "name": "calysto_scheme"
  },
  "language_info": {
   "codemirror_mode": {
    "name": "scheme"
   },
   "mimetype": "text/x-scheme",
   "name": "scheme",
   "pygments_lexer": "scheme"
  },
  "orig_nbformat": 4
 },
 "nbformat": 4,
 "nbformat_minor": 2
}
