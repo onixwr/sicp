{
 "cells": [
  {
   "cell_type": "code",
   "execution_count": 13,
   "metadata": {
    "vscode": {
     "languageId": "python"
    }
   },
   "outputs": [],
   "source": [
    "(define (make-point x y)\n",
    "  (cons x y))\n",
    "\n",
    "(define (x-point p)\n",
    "  (car p))\n",
    "\n",
    "(define (y-point p)\n",
    "  (cdr p))\n",
    "\n",
    "(define (print-point p)\n",
    "  (display \"(\")\n",
    "  (display (x-point p))\n",
    "  (display \",\")\n",
    "  (display (y-point p))\n",
    "  (display \")\"))"
   ]
  },
  {
   "cell_type": "code",
   "execution_count": 14,
   "metadata": {
    "vscode": {
     "languageId": "python"
    }
   },
   "outputs": [
    {
     "name": "stdout",
     "output_type": "stream",
     "text": [
      "(10,20)"
     ]
    }
   ],
   "source": [
    "(print-point (make-point 10 20))"
   ]
  },
  {
   "cell_type": "code",
   "execution_count": 17,
   "metadata": {
    "vscode": {
     "languageId": "python"
    }
   },
   "outputs": [],
   "source": [
    "(define (make-segment x0 y0 x1 y1)\n",
    "  (cons (make-point x0 y0) (make-point x1 y1))\n",
    ")\n",
    "(define (start-segment s)\n",
    "  (car s)\n",
    ")\n",
    "(define (end-segment s)\n",
    "  (cdr s)\n",
    ")\n",
    "(define (print-segment s)\n",
    "  (display \"(\")\n",
    "  (print-point (start-segment s))\n",
    "  (display \",\")\n",
    "  (print-point (end-segment s))\n",
    "  (display \")\"))\n",
    "\n"
   ]
  },
  {
   "cell_type": "code",
   "execution_count": 18,
   "metadata": {
    "vscode": {
     "languageId": "python"
    }
   },
   "outputs": [
    {
     "name": "stdout",
     "output_type": "stream",
     "text": [
      "((2,3),(4,5))"
     ]
    }
   ],
   "source": [
    "(print-segment (make-segment 2 3 4 5))"
   ]
  },
  {
   "cell_type": "code",
   "execution_count": 25,
   "metadata": {
    "vscode": {
     "languageId": "python"
    }
   },
   "outputs": [],
   "source": [
    "(define (average x y)\n",
    "  (/ (+ x y) 2)\n",
    ")\n",
    "(define (midpoint-segment s)\n",
    "  (let \n",
    "    ((s0 (start-segment s))\n",
    "     (s1 (end-segment s)))\n",
    "    (make-point \n",
    "      (average (x-point s0) (x-point s1))\n",
    "      (average (y-point s0) (y-point s1)))          \n",
    "  )\n",
    ")"
   ]
  },
  {
   "cell_type": "code",
   "execution_count": 27,
   "metadata": {
    "vscode": {
     "languageId": "python"
    }
   },
   "outputs": [
    {
     "name": "stdout",
     "output_type": "stream",
     "text": [
      "((2,3),(4,5))\n",
      "(3,4)"
     ]
    }
   ],
   "source": [
    "(print-segment (make-segment 2 3 4 5))\n",
    "(newline)\n",
    "(print-point (midpoint-segment (make-segment 2 3 4 5)))"
   ]
  },
  {
   "cell_type": "code",
   "execution_count": null,
   "metadata": {
    "vscode": {
     "languageId": "python"
    }
   },
   "outputs": [],
   "source": []
  }
 ],
 "metadata": {
  "kernelspec": {
   "display_name": "Calysto Scheme 3",
   "language": "scheme",
   "name": "calysto_scheme"
  },
  "language_info": {
   "codemirror_mode": {
    "name": "scheme"
   },
   "mimetype": "text/x-scheme",
   "name": "scheme",
   "pygments_lexer": "scheme"
  },
  "orig_nbformat": 4
 },
 "nbformat": 4,
 "nbformat_minor": 2
}
