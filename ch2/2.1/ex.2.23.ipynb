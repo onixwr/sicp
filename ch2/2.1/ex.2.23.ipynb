{
 "cells": [
  {
   "cell_type": "code",
   "execution_count": 1,
   "metadata": {},
   "outputs": [],
   "source": [
    "(define nil '())"
   ]
  },
  {
   "cell_type": "code",
   "execution_count": 10,
   "metadata": {},
   "outputs": [],
   "source": [
    "; 最後のprocの値を返す\n",
    "(define (for-each proc items)\n",
    "  (define (for-each-with-value value _items)\n",
    "    (cond\n",
    "      ((null? _items) value)\n",
    "      (else \n",
    "        (for-each-with-value (proc (car _items)) (cdr _items) )\n",
    "      )\n",
    "    )\n",
    "  )\n",
    "  (for-each-with-value #t items)\n",
    ")\n"
   ]
  },
  {
   "cell_type": "code",
   "execution_count": 12,
   "metadata": {},
   "outputs": [
    {
     "name": "stdout",
     "output_type": "stream",
     "text": [
      "\n",
      "57\n",
      "32\n",
      "88"
     ]
    }
   ],
   "source": [
    "(for-each \n",
    "  (lambda (x)\n",
    "    (newline)\n",
    "    (display x)\n",
    "  )\n",
    "  (list 57 32 88)\n",
    ")"
   ]
  },
  {
   "cell_type": "code",
   "execution_count": 13,
   "metadata": {},
   "outputs": [
    {
     "name": "stdout",
     "output_type": "stream",
     "text": [
      "\n",
      "57\n",
      "32\n",
      "88"
     ]
    },
    {
     "data": {
      "text/plain": [
       "88"
      ]
     },
     "execution_count": 13,
     "metadata": {},
     "output_type": "execute_result"
    }
   ],
   "source": [
    "(for-each \n",
    "  (lambda (x)\n",
    "    (newline)\n",
    "    (display x)\n",
    "    x\n",
    "  )\n",
    "  (list 57 32 88)\n",
    ")"
   ]
  },
  {
   "cell_type": "code",
   "execution_count": null,
   "metadata": {},
   "outputs": [],
   "source": []
  }
 ],
 "metadata": {
  "kernelspec": {
   "display_name": "Calysto Scheme 3",
   "language": "scheme",
   "name": "calysto_scheme"
  },
  "language_info": {
   "codemirror_mode": {
    "name": "scheme"
   },
   "mimetype": "text/x-scheme",
   "name": "scheme",
   "pygments_lexer": "scheme"
  },
  "orig_nbformat": 4
 },
 "nbformat": 4,
 "nbformat_minor": 2
}
