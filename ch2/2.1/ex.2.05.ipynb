{
 "cells": [
  {
   "attachments": {},
   "cell_type": "markdown",
   "metadata": {},
   "source": [
    "$ \n",
    "\\mathbb{N}^2 = \\{(a, b)| a,bは非負整数\\}\n",
    "$\n",
    "\n",
    "$\n",
    "A = \\{2^a3^b|(a,b)\\in\\mathbb{N}\\}\n",
    "$\n",
    "\n",
    "$\n",
    "f :\\mathbb{N} \\rightarrow A\n",
    "$\n",
    "\n",
    "$ \n",
    "f(a, b) = 2^a3^bとすると、2と3は素数であるため、f(a, b)は単射である。また、任意のx \\in Aに対して、(a,b)\\in\\mathbb{N}^2が存在しているので、全射である。従って、fは\\mathbb{N}\\rightarrow Aの全単射であるため、(a, b)と2^a3^bは1対1に対応する。\n",
    "$"
   ]
  },
  {
   "cell_type": "code",
   "execution_count": 8,
   "metadata": {
    "vscode": {
     "languageId": "python"
    }
   },
   "outputs": [],
   "source": [
    "(define (square x) (* x x))\n",
    "(define (fast-expt-iter b n x)\n",
    "  (cond\n",
    "    ((= n 0) x)\n",
    "    ((even? n) (fast-expt-iter (square b) (/ n 2) x ) )\n",
    "    (else (fast-expt-iter b (- n 1) (* b x)  ))\n",
    "  )\n",
    ")\n",
    "\n",
    "(define (expt b n)\n",
    "  (fast-expt-iter b n 1)\n",
    ")\n",
    "\n",
    "; log_a b \n",
    "(define (logint a b)\n",
    "  (if (= (remainder b a) 0)\n",
    "    (+ 1 (logint a (/ b a)))\n",
    "    0\n",
    "  )\n",
    ")"
   ]
  },
  {
   "cell_type": "code",
   "execution_count": 15,
   "metadata": {
    "vscode": {
     "languageId": "python"
    }
   },
   "outputs": [],
   "source": [
    "(define (cons a b)\n",
    "  (* (expt 2 a) (expt 3 b))\n",
    ")\n",
    "\n",
    "(define (car z)\n",
    "  (logint 2 z)\n",
    ")\n",
    "\n",
    "(define (cdr z)\n",
    "  (logint 3 z)\n",
    ")"
   ]
  },
  {
   "cell_type": "code",
   "execution_count": 16,
   "metadata": {
    "vscode": {
     "languageId": "python"
    }
   },
   "outputs": [],
   "source": [
    "(define z (cons 10 60))"
   ]
  },
  {
   "cell_type": "code",
   "execution_count": 17,
   "metadata": {
    "vscode": {
     "languageId": "python"
    }
   },
   "outputs": [
    {
     "data": {
      "text/plain": [
       "43408546073821392398637499597824"
      ]
     },
     "execution_count": 17,
     "metadata": {},
     "output_type": "execute_result"
    }
   ],
   "source": [
    "z"
   ]
  },
  {
   "cell_type": "code",
   "execution_count": 18,
   "metadata": {
    "vscode": {
     "languageId": "python"
    }
   },
   "outputs": [
    {
     "data": {
      "text/plain": [
       "10"
      ]
     },
     "execution_count": 18,
     "metadata": {},
     "output_type": "execute_result"
    }
   ],
   "source": [
    "(car z)"
   ]
  },
  {
   "cell_type": "code",
   "execution_count": 19,
   "metadata": {
    "vscode": {
     "languageId": "python"
    }
   },
   "outputs": [
    {
     "data": {
      "text/plain": [
       "60"
      ]
     },
     "execution_count": 19,
     "metadata": {},
     "output_type": "execute_result"
    }
   ],
   "source": [
    "(cdr z)"
   ]
  }
 ],
 "metadata": {
  "kernelspec": {
   "display_name": "Calysto Scheme 3",
   "language": "scheme",
   "name": "calysto_scheme"
  },
  "language_info": {
   "codemirror_mode": {
    "name": "scheme"
   },
   "mimetype": "text/x-scheme",
   "name": "scheme",
   "pygments_lexer": "scheme"
  },
  "orig_nbformat": 4
 },
 "nbformat": 4,
 "nbformat_minor": 2
}
